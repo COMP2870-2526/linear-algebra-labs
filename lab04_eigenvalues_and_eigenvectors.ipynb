{
 "cells": [
  {
   "cell_type": "markdown",
   "id": "263f1360-e304-42ae-bd18-7faa4c796b79",
   "metadata": {},
   "source": [
    "# Lab04: Eigenvalues and eigenvectors"
   ]
  },
  {
   "cell_type": "markdown",
   "id": "fe5937fd-613e-4c7c-b097-c59ea2d9372e",
   "metadata": {},
   "source": [
    "## Exercise 1: Eigenvalues of $2 \\times 2$ matrices\n",
    "\n",
    "For $2 \\times 2$ matrices, we can use the quadratic formula to directly\n",
    "find eigenvalues of matrices. First, write down which quadratic equation\n",
    "that the eigenvalues should solve and then implement this in Python\n",
    "code. You should write a function which takes a $2 \\times 2$ matrix\n",
    "represented by a numpy array and return both eigenvalues.\n",
    "\n",
    "Test your code with the matrix $$\n",
    "\\begin{pmatrix}\n",
    "9 & -2 \\\\ -2 & 6\n",
    "\\end{pmatrix}.\n",
    "$$ Find the eigenvalues by hand first then check your code gives the\n",
    "same results."
   ]
  },
  {
   "cell_type": "code",
   "execution_count": null,
   "id": "c2daf36d-9516-43e6-9f59-35777e770587",
   "metadata": {},
   "outputs": [],
   "source": []
  },
  {
   "cell_type": "markdown",
   "id": "2930ee61-5586-4831-9c7c-1f205fe5e52d",
   "metadata": {},
   "source": [
    "## Exercise 2: Improving the QR with Gram Schmidt approach\n",
    "\n",
    "In this exercise, we will improve our implementation of\n",
    "`gram_schmidt_qr` and `gram_schmidt_eigen`. You should use the same test\n",
    "case as in [the lecture\n",
    "notes](https://comp2870-2526.github.io/linear-algebra-notes/src/lec08.html#correctness-and-convergence).\n",
    "Implement *one* of the following improvements and see how the change the\n",
    "resulting performance of the algorithm in terms of robustness, accuracy\n",
    "and/or efficiency.\n",
    "\n",
    "1.  The first challenge is that the Gram-Schmidt process does not give\n",
    "    truely orthogonal vectors as outout when computed in\n",
    "    double-precision floating-point calculations. We can improve this by\n",
    "    using the *modified Gram-Schmidt process*. This works by\n",
    "    manipulating a copy of $A$ to become orthogonal. The key steps are\n",
    "    as follows:\n",
    "\n",
    "    1.  Create a copy of the input $n \\times n$ matrix $A$ called $Q$\n",
    "        and initialise a zero matrix $R$ with the same size as $A$.\n",
    "    2.  For $i = 1, \\ldots n$\n",
    "        1.  Compute the norm of the current column:\n",
    "            $$R_{i, i} := \\left( \\sum_{j=1}^n | Q_{j, i} |^2 \\right)^{\\frac{1}{2}}$$.\n",
    "        2.  Normalise the current column:\n",
    "            $$Q_{j, i}^{\\text{new}} := Q_{j, i} / R_{i, i} \\quad \\text{for } j = 1, \\ldots n$$.\n",
    "        3.  Orthogonalize remaining columns against the $i$th column of\n",
    "            $Q$: for $j = i+1, \\ldots n$, $$\n",
    "            \\begin{aligned}\n",
    "            R_{ij} = \\sum_{k=1}^n Q_{ki} Q_{kj}\n",
    "            Q^{\\text{new}}_{kj} = Q_{kj} - R_{ij} Q_{kj} && \\text{for } k = 1, \\ldots, n.\n",
    "            \\end{aligned}\n",
    "            $$\n",
    "        4.  Set $Q = Q^{\\text{new}}$ and continue with next $i$.\n",
    "\n",
    "2.  Following [Example\n",
    "    7.3](https://comp2870-2526.github.io/linear-algebra-notes/src/lec07.html#exm-char),\n",
    "    we have a good formula for how *shifting* a matrix changes the\n",
    "    eigenvalues and eigenvectors of a matrix.\n",
    "\n",
    "    For a shift value $\\mu$, the key idea for the shifted algorithm is\n",
    "    to shift the matrix before computing QR factorisation $$\n",
    "     A - \\mu I_n = QR,\n",
    "     $$ and then undo the shift when updating $$\n",
    "     A^{\\text{new}} = RQ + \\mu I_n.\n",
    "     $$\n",
    "\n",
    "    There are two suggestions form the literature to improve the speed\n",
    "    of convergence.\n",
    "\n",
    "    -   The first is to take the bottom right value of the matrix $A$ at\n",
    "        each step $\\mu = A_{nn}$. Note this value changes throughout the\n",
    "        computation as we update $A$ in-place.\n",
    "    -   The second is to use the *Wilkinson shift*. In this case, we\n",
    "        compute the eigenvalues of the bottom-right $2 \\times 2$\n",
    "        submatrix of $A$ (using your code form Exercise 1) and then\n",
    "        choose the eigenvalue closest to the bottom-right element of $A$\n",
    "        as our value of $\\mu$.\n",
    "\n",
    "    Neither change affects how the matrix $V$ should be computed.\n",
    "\n",
    "3.  We can also scale the matrix to be close to unit size. We again do\n",
    "    this before the QR factorisation and then undo during reconstruction\n",
    "\n",
    "    1.  Set $\\alpha = \\max_{ij} | A_{ij} |$ and\n",
    "        $\\tilde{A} = A / \\alpha$.\n",
    "    2.  Compute the QR factorisation of $\\tilde{A} = QR$.\n",
    "    3.  Update the $A$ as $$A^{\\text{new}} = \\alpha RQ.$$\n",
    "\n",
    "    This change does not affect how the matrix $V$ should be computed."
   ]
  },
  {
   "cell_type": "code",
   "execution_count": null,
   "id": "52c7dff3-0695-4c4e-b049-faae6828d34e",
   "metadata": {},
   "outputs": [],
   "source": []
  },
  {
   "cell_type": "markdown",
   "id": "05180e89-fd0d-49af-acee-2085acee3a4e",
   "metadata": {},
   "source": [
    "If you have time, implement one or more additional updates again\n",
    "comparing using the test cases from the lecture notes."
   ]
  }
 ],
 "metadata": {
  "kernelspec": {
   "display_name": "Python 3 (ipykernel)",
   "language": "python",
   "name": "python3"
  },
  "language_info": {
   "codemirror_mode": {
    "name": "ipython",
    "version": 3
   },
   "file_extension": ".py",
   "mimetype": "text/x-python",
   "name": "python",
   "nbconvert_exporter": "python",
   "pygments_lexer": "ipython3",
   "version": "3.12.8"
  }
 },
 "nbformat": 4,
 "nbformat_minor": 5
}
