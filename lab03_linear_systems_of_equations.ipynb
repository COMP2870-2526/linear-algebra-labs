{
 "cells": [
  {
   "cell_type": "markdown",
   "id": "c509c383-690c-471a-aabf-4bbc21632c23",
   "metadata": {},
   "source": [
    "# Lab03: Linear systems of equations"
   ]
  },
  {
   "cell_type": "code",
   "execution_count": null,
   "id": "1fcc4684",
   "metadata": {},
   "outputs": [],
   "source": [
    "import numpy as np"
   ]
  },
  {
   "cell_type": "markdown",
   "id": "70970891-77cf-4b83-ae39-fadb7209647c",
   "metadata": {},
   "source": [
    "## Exercise 1: LU factorisation\n",
    "\n",
    "Implement the algorithm for LU factorisation as described [in the\n",
    "notes](https://comp2870-2526.github.io/linear-algebra-notes/src/lec04.html#sec-LU-factorisation).\n",
    "You should implement a Python function which accepts an $n \\times n$\n",
    "matrix $A$ represented as a numpy array and returns one lower triangular\n",
    "matrix $L$ and one upper triangular matrix $U$ with $A = LU$.\n",
    "\n",
    "Here is some starter code:"
   ]
  },
  {
   "cell_type": "code",
   "execution_count": null,
   "id": "71b3bff4",
   "metadata": {},
   "outputs": [],
   "source": [
    "def lu_factorisation(A):\n",
    "    \"\"\"\n",
    "    Compute the LU factorisation of a square matrix A.\n",
    "\n",
    "    The function decomposes a square matrix ``A`` into the product of a lower\n",
    "    triangular matrix ``L`` and an upper triangular matrix ``U`` such that:\n",
    "\n",
    "    .. math::\n",
    "        A = L U\n",
    "\n",
    "    where ``L`` has unit diagonal elements and ``U`` is upper triangular.\n",
    "\n",
    "    Parameters\n",
    "    ----------\n",
    "    A : numpy.ndarray\n",
    "        A 2D NumPy array of shape ``(n, n)`` representing the square matrix to\n",
    "        factorise.\n",
    "\n",
    "    Returns\n",
    "    -------\n",
    "    L : numpy.ndarray\n",
    "        A lower triangular matrix with shape ``(n, n)`` and unit diagonal.\n",
    "    U : numpy.ndarray\n",
    "        An upper triangular matrix with shape ``(n, n)``.\n",
    "    \"\"\"\n",
    "    n, m = A.shape\n",
    "    if n != m:\n",
    "        raise ValueError(f\"Matrix A is not square {A.shape=}\")\n",
    "\n",
    "    # construct arrays of zeros\n",
    "    L, U = np.zeros_like(A), np.zeros_like(A)\n",
    "    \n",
    "    # ..."
   ]
  },
  {
   "cell_type": "markdown",
   "id": "1d5864f6-0f7e-4695-b6c4-9bdd9bad95c7",
   "metadata": {},
   "source": [
    "Test your solution on the matrix $A$: $$\n",
    "A = \\begin{pmatrix}\n",
    "4 & 2 & 0 \\\\ 2 & 3 & 1 \\\\ 0 & 1 & 2.5\n",
    "\\end{pmatrix}.\n",
    "$$ First compute the LU factorisation by hand and the use\n",
    "`np.linalg.norm` to compare each part of your solution."
   ]
  },
  {
   "cell_type": "code",
   "execution_count": null,
   "id": "ad116163-5b1b-47ed-8349-7d72c8637a45",
   "metadata": {},
   "outputs": [],
   "source": []
  },
  {
   "cell_type": "markdown",
   "id": "0a9116cc-d2c2-463a-aefc-1431aa363390",
   "metadata": {},
   "source": [
    "## Exercise 2: Timing LU factorisation\n",
    "\n",
    "Combine your implementation of LU factorisation with the forwards and\n",
    "backwards solve from the lecture notes to create a solver for a system\n",
    "of linear equations. Compare how long it takes for each part of your\n",
    "code to run against the code for Gaussian elimination from the lecture\n",
    "notes."
   ]
  },
  {
   "cell_type": "code",
   "execution_count": null,
   "id": "29536588-6dcf-4da1-8bf3-85a929719c67",
   "metadata": {},
   "outputs": [],
   "source": []
  },
  {
   "cell_type": "markdown",
   "id": "4cea340f-a68a-4194-8fa5-6270731ebd9c",
   "metadata": {},
   "source": [
    "Use the following code to help generate the test cases:"
   ]
  },
  {
   "cell_type": "code",
   "execution_count": null,
   "id": "56a82bc4",
   "metadata": {},
   "outputs": [],
   "source": [
    "sizes = [2**j for j in range(1, 10)]\n",
    "\n",
    "for n in sizes:\n",
    "    # generate a random system of linear equations of size n\n",
    "    A_part = np.random.rand(n, n)\n",
    "    A = np.dot(A_part, A_part.T)\n",
    "    b = np.random.rand(n, 1)\n",
    "    \n",
    "    # do the solve\n",
    "    ..."
   ]
  },
  {
   "cell_type": "markdown",
   "id": "c31bb189-80b1-4aaf-bc36-961614f58258",
   "metadata": {},
   "source": [
    "What do you discover?\n",
    "\n",
    "## Exercise 3: LU factorisation with pivoting (Extension)\n",
    "\n",
    "We can improve the stability of LU factorisation by additionally\n",
    "including a pivoting step.\n",
    "\n",
    "The new algorithm looks like:\n",
    "\n",
    "1.  Initialise $P = I_n$ (the $n \\times n$ identity), $L = O_n$ (the\n",
    "    $n \\times n$ zero matrix) and $U = O_n$.\n",
    "\n",
    "2.  For $k = 1, \\ldots n$:\n",
    "\n",
    "    1.  Find the pivot row with the largest $|A_{ik}|$ for\n",
    "        $i = k, \\ldots, n$. Swap rows $k$ and $p$ in $A$ and store this\n",
    "        swap in $P$.\n",
    "    2.  Form $U$ row: $$\n",
    "        U_{kj} = A_{kj} \\qquad \\text{for } j = k, \\ldots, n\n",
    "        $$\n",
    "    3.  Form $L$ row: $$\n",
    "        L_{ik} = \\frac{A_{ik}}{U_{kk}} \\qquad \\text{for } i = k+1, \\ldots, n\n",
    "        $$\n",
    "    4.  Update the remaining submatrix: $$\n",
    "        A_{ij} = A_{ij} - L_{ik} U_{kj} \\qquad \\text{for } i = k+1, \\ldots, n, j=k+1, \\ldots n.\n",
    "        $$\n",
    "    5.  Repeat for next column $k+1$.\n",
    "\n",
    "Implement this new method and test on the system of linear equations\n",
    "given by: $$\n",
    "\\begin{pmatrix}\n",
    "10 & -7 & 0 \\\\ -3 & 2.1 - \\varepsilon & 6 \\\\ 5 & -1 & 5\n",
    "\\end{pmatrix}\n",
    "\\begin{pmatrix}\n",
    "x_1 \\\\ x_2 \\\\x_3\n",
    "\\end{pmatrix}\n",
    "= \\begin{pmatrix}\n",
    "7 \\\\ 9.9 + \\varepsilon \\\\ 11\n",
    "\\end{pmatrix}.\n",
    "$$ Test with $\\varepsilon = 10^{-14}$."
   ]
  },
  {
   "cell_type": "code",
   "execution_count": null,
   "id": "892aaa9b-65f8-4177-8612-e0bdc50323b0",
   "metadata": {},
   "outputs": [],
   "source": []
  }
 ],
 "metadata": {
  "kernelspec": {
   "display_name": "Python 3 (ipykernel)",
   "language": "python",
   "name": "python3"
  },
  "language_info": {
   "codemirror_mode": {
    "name": "ipython",
    "version": 3
   },
   "file_extension": ".py",
   "mimetype": "text/x-python",
   "name": "python",
   "nbconvert_exporter": "python",
   "pygments_lexer": "ipython3",
   "version": "3.12.8"
  }
 },
 "nbformat": 4,
 "nbformat_minor": 5
}
