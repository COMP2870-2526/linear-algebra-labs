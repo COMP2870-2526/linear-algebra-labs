{
 "cells": [
  {
   "cell_type": "markdown",
   "id": "d8b5a91b-b0f4-4f17-a004-5fdb3ec3bf62",
   "metadata": {},
   "source": [
    "# Lab02: Working with numpy"
   ]
  },
  {
   "cell_type": "code",
   "execution_count": null,
   "id": "5a5895e9",
   "metadata": {},
   "outputs": [],
   "source": [
    "import numpy as np"
   ]
  },
  {
   "cell_type": "markdown",
   "id": "72dcc063-eee9-412d-9dbf-ef200728c387",
   "metadata": {},
   "source": [
    "## Exercise 1:\n",
    "\n",
    "In the first exercise, we will see how to perform basic linear algebra\n",
    "operations.\n",
    "\n",
    "You construct the matrix\n",
    "$$A = \\begin{pmatrix} 10 & 1 & 0 & 9 \\\\ 12.4 & 6 & 1 & 0 \\\\ 0 & 6 & 0 & 8 \\\\ 1 & 3.14 & 1 & 0 \\end{pmatrix}$$\n",
    "using the [`numpy`]() command `array`:"
   ]
  },
  {
   "cell_type": "code",
   "execution_count": null,
   "id": "66f4105e",
   "metadata": {},
   "outputs": [],
   "source": [
    "A = np.array([[10, 1, 0, 9], [12.4, 6, 1, 0], [0, 6, 0, 8], [1, 3.14, 1, 0]])"
   ]
  },
  {
   "cell_type": "markdown",
   "id": "d717570c-6ec0-4aed-8dfb-0dc24144fb04",
   "metadata": {},
   "source": [
    "You can check the dimensions of `A` by calling"
   ]
  },
  {
   "cell_type": "code",
   "execution_count": null,
   "id": "b3b07495",
   "metadata": {},
   "outputs": [],
   "source": [
    "A.shape"
   ]
  },
  {
   "cell_type": "markdown",
   "id": "a74945ac-0cb2-4060-a234-4d83f7d1197b",
   "metadata": {},
   "source": [
    "There are shortcut commands to help with some matrices."
   ]
  },
  {
   "cell_type": "code",
   "execution_count": null,
   "id": "32a0a364",
   "metadata": {},
   "outputs": [],
   "source": [
    "identity = np.eye(4)  # takes one argument for a 4x4 identity matrix\n",
    "zeros = np.zeros((4, 4))  # takes one shape argument for a 4x4 matrix of zeros\n",
    "B = np.empty(\n",
    "    (4, 4)\n",
    ")  # takes one shape argument for a 4x4 matrix with values not initialised\n",
    "# to anything in particular"
   ]
  },
  {
   "cell_type": "markdown",
   "id": "f0cc2fe2-a957-440e-aec3-009df50451ca",
   "metadata": {},
   "source": [
    "We can perform basic matrix operations too:"
   ]
  },
  {
   "cell_type": "code",
   "execution_count": null,
   "id": "beb58197",
   "metadata": {},
   "outputs": [],
   "source": [
    "5 * A  # scalar multiplication\n",
    "A + identity  # to add matrices\n",
    "zeros @ A  # the @ operator is used to do matrix multiplication\n",
    "A.T  # we can call the method T to return (a view of) the transpose of A"
   ]
  },
  {
   "cell_type": "markdown",
   "id": "f3d1d55e-03bb-426f-94ed-23a5ef538ee9",
   "metadata": {},
   "source": [
    "We can use the same expressions for vectors:"
   ]
  },
  {
   "cell_type": "code",
   "execution_count": null,
   "id": "126d66d5",
   "metadata": {},
   "outputs": [],
   "source": [
    "a = np.array([1.0, 2.0, 3.0])  # row vector\n",
    "b = np.array([[4.0], [5.0], [6.0]])  # column vector"
   ]
  },
  {
   "cell_type": "markdown",
   "id": "8d84f50e-fb52-4563-8e14-a76c5c8efb44",
   "metadata": {},
   "source": [
    "and compute scalar products very simply too"
   ]
  },
  {
   "cell_type": "code",
   "execution_count": null,
   "id": "deeb796a",
   "metadata": {},
   "outputs": [],
   "source": [
    "c = np.array([-1.0, 0.0, -1.0])\n",
    "np.dot(a, c)"
   ]
  },
  {
   "cell_type": "markdown",
   "id": "c7632616-c828-48cd-b74c-a69397863708",
   "metadata": {},
   "source": [
    "**Warning 1:** All algorithms we use in this module assume that we are\n",
    "working with double-precision floating-point numbers. We can check the\n",
    "type of the entries of the matrix using the `dtype` method:"
   ]
  },
  {
   "cell_type": "code",
   "execution_count": null,
   "id": "d1088d74",
   "metadata": {},
   "outputs": [],
   "source": [
    "c.dtype"
   ]
  },
  {
   "cell_type": "markdown",
   "id": "fb04f855-7cf7-4439-8309-75ba16f2c913",
   "metadata": {},
   "source": [
    "When constructing arrays, we can ensure that we have double-precision\n",
    "floating-point numbers using:"
   ]
  },
  {
   "cell_type": "code",
   "execution_count": null,
   "id": "2f44054f",
   "metadata": {},
   "outputs": [],
   "source": [
    "d = np.array([1.0, 2.0, 3.0], dtype=float)\n",
    "d = np.array([1.0, 2.0, 3.0], dtype=np.double)  # or\n",
    "d = d.astype(float)  # or"
   ]
  },
  {
   "cell_type": "markdown",
   "id": "e49f1b59-0192-4709-a5c8-deeb632910ea",
   "metadata": {},
   "source": [
    "**Warning 2:** In the first lab, you already saw that we cannot simply\n",
    "use the `==` operator to check floating-point numbers are equal. The\n",
    "same holds true when working with arrays with floating-point values. One\n",
    "simply way to check is to use:"
   ]
  },
  {
   "cell_type": "code",
   "execution_count": null,
   "id": "8ee6e362",
   "metadata": {},
   "outputs": [],
   "source": [
    "tol = 1.0e-8\n",
    "np.linalg.norm(b - c) < tol"
   ]
  },
  {
   "cell_type": "markdown",
   "id": "c1ce79a1-0be7-4724-af8a-d4d8acc9c733",
   "metadata": {},
   "source": [
    "## Exercise 2:\n",
    "\n",
    "From [Definition 3.4](https://comp2870-2526.github.io/linear-algebra-notes/src/lec03.html#def-determinant):\n",
    "\n",
    "Let $A$ be a square $n \\times n$ matrix.\n",
    "\n",
    "If $n = 2$,\n",
    "$$\n",
    "\\det A = \\det \\begin{pmatrix} a_{11} & a_{12} \\\\ a_{21} & a_{22} \\end{pmatrix}\n",
    "= a_{11} a_{22} - a_{21} a_{12}.\n",
    "$$\n",
    "\n",
    "If $n = 3$,\n",
    "$$\n",
    "\\begin{aligned}\n",
    "\\det A & = \\det \\begin{pmatrix} a_{11} & a_{12} & a_{13} \\\\\n",
    "a_{21} & a_{22} & a_{23} \\\\\n",
    "a_{31} & a_{32} & a_{33}\n",
    "\\end{pmatrix} \\\\\n",
    "& = a_{11} (a_{22} a_{33} - a_{23} a_{32}) - a_{12} (a_{21} a_{33} - a_{23}\n",
    "a_{31}) + a_{13} (a_{21} a_{32} - a_{22} - a_{31}).\n",
    "\\end{aligned}\n",
    "$$\n",
    "\n",
    "For general $n$, the determinant can be found by, for example, Laplace expansions\n",
    "$$\n",
    "\\det A = \\sum_{j=1}^n (-1)^{j+1} a_{1,j} m_{1,j},\n",
    "$$\n",
    "where $a_{1,j}$ is the entry of the first row and $j$th column of $A$ and\n",
    "$m_{1,j}$ is the determinant of the submatrix obtained by removing the first row\n",
    "and the $j$th column from $A$.\n",
    "\n",
    "\n",
    "Write a Python function which takes an $n \\times n$ matrix stored as a numpy array and returns the determinant. You should write in the specialisms for the cases $n=2,3$ and use Laplace expansions for the general case.\n",
    "\n",
    "Test your code on the following examples:\n",
    "\n",
    "$$\n",
    "\\begin{aligned}\n",
    "A & = \\begin{pmatrix}\n",
    "1 & 2 \\\\ 3 & 4\n",
    "\\end{pmatrix} & \\det A & = -2 \\\\\n",
    "%\n",
    "B & = \\begin{pmatrix}\n",
    "1 & 2 & 3 \\\\ 0 & 4 & 5 \\\\ 1 & 0 & 6\n",
    "\\end{pmatrix} & \\det B & = 22 \\\\\n",
    "%\n",
    "C & = \\begin{pmatrix}\n",
    "1 & 2 & 3 & 4 \\\\\n",
    "5 & 6 & 7 & 8 \\\\\n",
    "2 & 6 & 4 & 8 \\\\\n",
    "3 & 1 & 1 & 2\n",
    "\\end{pmatrix} & \\det C & = 72.\n",
    "\\end{aligned}\n",
    "$$\n",
    "\n",
    "**Extension**\n",
    "Can you improve your implementation by avoiding any copies of the matrices or submatrices?\n"
   ]
  },
  {
   "cell_type": "code",
   "execution_count": null,
   "id": "b328d7ec-f101-483e-99e7-c532bf0c5365",
   "metadata": {},
   "outputs": [],
   "source": []
  }
 ],
 "metadata": {
  "kernelspec": {
   "display_name": "Python 3 (ipykernel)",
   "language": "python",
   "name": "python3"
  },
  "language_info": {
   "codemirror_mode": {
    "name": "ipython",
    "version": 3
   },
   "file_extension": ".py",
   "mimetype": "text/x-python",
   "name": "python",
   "nbconvert_exporter": "python",
   "pygments_lexer": "ipython3",
   "version": "3.12.8"
  }
 },
 "nbformat": 4,
 "nbformat_minor": 5
}
